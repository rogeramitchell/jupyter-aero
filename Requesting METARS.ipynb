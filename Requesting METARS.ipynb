{
 "cells": [
  {
   "cell_type": "code",
   "execution_count": 1,
   "metadata": {},
   "outputs": [],
   "source": [
    "# global variables\n",
    "base_url = 'http://tgftp.nws.noaa.gov/data/observations/metar/stations/'\n",
    "file_format = '.TXT'\n",
    "\n",
    "# imports\n",
    "import urllib.request\n",
    "\n",
    "with urllib.request.urlopen(base_url + 'KAFN' + file_format) as response:\n",
    "    html = response.read().decode('utf-8')"
   ]
  },
  {
   "cell_type": "code",
   "execution_count": 2,
   "metadata": {
    "scrolled": true
   },
   "outputs": [
    {
     "data": {
      "text/plain": [
       "'2018/05/14 21:52\\nKAFN 142152Z AUTO 27006KT 10SM CLR 24/08 A2987 RMK AO2 SLP118 T02440078\\n'"
      ]
     },
     "execution_count": 2,
     "metadata": {},
     "output_type": "execute_result"
    }
   ],
   "source": [
    "html"
   ]
  },
  {
   "cell_type": "code",
   "execution_count": 3,
   "metadata": {},
   "outputs": [],
   "source": [
    "html = html.replace('\\n', ' ')"
   ]
  },
  {
   "cell_type": "code",
   "execution_count": 4,
   "metadata": {},
   "outputs": [],
   "source": [
    "data = html.split(' ')"
   ]
  },
  {
   "cell_type": "code",
   "execution_count": 5,
   "metadata": {},
   "outputs": [
    {
     "data": {
      "text/plain": [
       "['2018/05/14',\n",
       " '21:52',\n",
       " 'KAFN',\n",
       " '142152Z',\n",
       " 'AUTO',\n",
       " '27006KT',\n",
       " '10SM',\n",
       " 'CLR',\n",
       " '24/08',\n",
       " 'A2987',\n",
       " 'RMK',\n",
       " 'AO2',\n",
       " 'SLP118',\n",
       " 'T02440078',\n",
       " '']"
      ]
     },
     "execution_count": 5,
     "metadata": {},
     "output_type": "execute_result"
    }
   ],
   "source": [
    "data"
   ]
  },
  {
   "cell_type": "code",
   "execution_count": null,
   "metadata": {},
   "outputs": [],
   "source": []
  },
  {
   "cell_type": "code",
   "execution_count": null,
   "metadata": {},
   "outputs": [],
   "source": []
  }
 ],
 "metadata": {
  "kernelspec": {
   "display_name": "Python 3",
   "language": "python",
   "name": "python3"
  },
  "language_info": {
   "codemirror_mode": {
    "name": "ipython",
    "version": 3
   },
   "file_extension": ".py",
   "mimetype": "text/x-python",
   "name": "python",
   "nbconvert_exporter": "python",
   "pygments_lexer": "ipython3",
   "version": "3.6.4"
  }
 },
 "nbformat": 4,
 "nbformat_minor": 2
}
